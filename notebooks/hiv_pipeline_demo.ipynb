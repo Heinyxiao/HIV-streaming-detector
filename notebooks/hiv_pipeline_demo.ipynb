{
 "cells": [
  {
   "cell_type": "code",
   "execution_count": null,
   "id": "ea8d339f",
   "metadata": {
    "vscode": {
     "languageId": "shellscript"
    }
   },
   "outputs": [],
   "source": [
    "# Step 1. Install tools\n",
    "!sudo apt-get install -y samtools bcftools\n",
    "!conda install -c bioconda minimap2 clair3 -y"
   ]
  },
  {
   "cell_type": "code",
   "execution_count": null,
   "id": "dbfbbb2d",
   "metadata": {
    "vscode": {
     "languageId": "shellscript"
    }
   },
   "outputs": [],
   "source": [
    "# Step 2. Download HIV reference genome\n",
    "!wget -O data/hiv_ref.fasta \"https://www.ncbi.nlm.nih.gov/search/api/sequence/K03455.1/?report=fasta\""
   ]
  },
  {
   "cell_type": "code",
   "execution_count": null,
   "id": "ee8c5b7e",
   "metadata": {
    "vscode": {
     "languageId": "shellscript"
    }
   },
   "outputs": [],
   "source": [
    "# Step 3. Simulate ONT reads (NanoSim or ART)\n",
    "!pip install nanosim-h\n",
    "!nanosim-h -r data/hiv_ref.fasta -o data/hiv_reads"
   ]
  },
  {
   "cell_type": "code",
   "execution_count": null,
   "id": "95b9f390",
   "metadata": {
    "vscode": {
     "languageId": "shellscript"
    }
   },
   "outputs": [],
   "source": [
    "# Step 4. Map reads\n",
    "!minimap2 -a data/hiv_ref.fasta data/hiv_reads.fastq | samtools view -Sb - | samtools sort -o results/reads.bam\n",
    "!samtools index results/reads.bam"
   ]
  },
  {
   "cell_type": "code",
   "execution_count": null,
   "id": "ae514e80",
   "metadata": {
    "vscode": {
     "languageId": "shellscript"
    }
   },
   "outputs": [],
   "source": [
    "# Step 5. Run Clair3\n",
    "!run_clair3.sh \\\n",
    "  --bam_fn=results/reads.bam \\\n",
    "  --ref_fn=data/hiv_ref.fasta \\\n",
    "  --threads=2 \\\n",
    "  --platform=ont \\\n",
    "  --model_path=/usr/local/lib/python3.10/dist-packages/clair3/models/ont \\\n",
    "  --output=results/clair3_output"
   ]
  },
  {
   "cell_type": "code",
   "execution_count": null,
   "id": "2b83d188",
   "metadata": {},
   "outputs": [],
   "source": [
    "import pysam\n",
    "\n",
    "resistance_db = {\n",
    "    \"M184V\": [\"3TC\", \"FTC\"],\n",
    "    \"K65R\": [\"TDF\", \"ABC\"],\n",
    "    \"K103N\": [\"EFV\", \"NVP\"],\n",
    "    \"Y181C\": [\"NVP\", \"RPV\"]\n",
    "}\n",
    "\n",
    "vcf_in = pysam.VariantFile(\"results/clair3_output/variants.vcf\")\n",
    "\n",
    "for rec in vcf_in.fetch():\n",
    "    ref = rec.ref\n",
    "    pos = rec.pos\n",
    "    for alt in rec.alts:\n",
    "        mutation = f\"{ref}{pos}{alt}\"\n",
    "        if mutation in resistance_db:\n",
    "            print(f\"⚠️ {mutation} → Resistance to {resistance_db[mutation]}\")"
   ]
  }
 ],
 "metadata": {
  "kernelspec": {
   "display_name": "Python 3",
   "language": "python",
   "name": "python3"
  },
  "language_info": {
   "name": "python",
   "version": "3.13.2"
  }
 },
 "nbformat": 4,
 "nbformat_minor": 5
}
